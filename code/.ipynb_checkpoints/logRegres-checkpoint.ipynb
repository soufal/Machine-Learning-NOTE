{
 "cells": [
  {
   "cell_type": "markdown",
   "metadata": {},
   "source": [
    "## 逻辑回归      \n",
    "**逻辑回归进行分类的主要思想：根据现有数据对分类边界线建立回归公式，以此进行分类。**"
   ]
  },
  {
   "cell_type": "markdown",
   "metadata": {},
   "source": [
    "Logistic回归的一般过程 \n",
    " \n",
    "1. 收集数据：采用任意方法收集数据。 \n",
    "2. 准备数据：由于需要进行距离计算，因此要求数据类型为数值型。另外，结构化数据格式则最佳。 \n",
    "3. 分析数据：采用任意方法对数据进行分析。 \n",
    "4. 训练算法：大部分时间将用于训练，训练的目的是为了找到最佳的分类回归系数。 \n",
    "5. 测试算法：一旦训练|步骤完成，分类将会很快。 \n",
    "6. 使用算法：首先，我们需要一些输入数据，并将其转换成对应的结构化数值；接着，基于训练好的回归系数就可以对这些数值进行简单的回归计算，判定它们属于哪个类别；在这之后，我们就可以在输出的类别上做一些其他分析工作。 "
   ]
  },
  {
   "cell_type": "markdown",
   "metadata": {},
   "source": [
    "优点：计算代价不高，易于理解和实现。\n",
    "缺点：容易欠拟合，分类精度可能不高。\n",
    "适用数据类型：数值型和标称型数据。"
   ]
  },
  {
   "cell_type": "markdown",
   "metadata": {},
   "source": [
    "#### 梯度上升法      \n",
    "梯度上升法的伪代码如下：       \n",
    "每个回归系数初始化为1      \n",
    "重复R次：      \n",
    "   * 计算整个数据集的梯度\n",
    "   * 使用$alpha × gradient$更新回归系数的向量\n",
    "   * 返回回归系数"
   ]
  },
  {
   "cell_type": "code",
   "execution_count": 21,
   "metadata": {},
   "outputs": [],
   "source": [
    "from numpy import *\n",
    "import matplotlib.pyplot as plt"
   ]
  },
  {
   "cell_type": "code",
   "execution_count": 52,
   "metadata": {},
   "outputs": [],
   "source": [
    "#梯度上升优化算法\n",
    "def loadDataSet():\n",
    "    dataMat = []\n",
    "    labelMat = []\n",
    "    fr = open('testSet.txt')\n",
    "    for line in fr.readlines():\n",
    "        lineArr = line.strip().split()\n",
    "        dataMat.append([1.0, float(lineArr[0]), float(lineArr[1])])\n",
    "        labelMat.append(int(lineArr[2]))\n",
    "    return dataMat, labelMat\n",
    "\n",
    "def sigmoid(inX):\n",
    "    return 1.0 / (1 + exp(-inX))\n",
    "\n",
    "def gradAscent(dataMatIn, classLabels):\n",
    "    #转换为Numpy矩阵数据类型\n",
    "    dataMatrix = mat(dataMatIn)\n",
    "    labelMat =  mat(classLabels).transpose()\n",
    "    m,n = shape(dataMatrix)\n",
    "    alpha = 0.001\n",
    "    maxCycles = 500\n",
    "    weights = ones((n, 1))\n",
    "    for k in range(maxCycles):\n",
    "        #矩阵相乘\n",
    "        h = sigmoid(dataMatrix * weights)\n",
    "        error = (labelMat - h)\n",
    "        weights = weights + alpha * dataMatrix.transpose() * error\n",
    "    return weights"
   ]
  },
  {
   "cell_type": "code",
   "execution_count": 53,
   "metadata": {},
   "outputs": [],
   "source": [
    "dataArr, LabelMat = loadDataSet()"
   ]
  },
  {
   "cell_type": "code",
   "execution_count": 54,
   "metadata": {},
   "outputs": [
    {
     "data": {
      "text/plain": [
       "matrix([[ 4.12414349],\n",
       "        [ 0.48007329],\n",
       "        [-0.6168482 ]])"
      ]
     },
     "execution_count": 54,
     "metadata": {},
     "output_type": "execute_result"
    }
   ],
   "source": [
    "gradAscent(dataArr, LabelMat)"
   ]
  },
  {
   "cell_type": "markdown",
   "metadata": {},
   "source": [
    "#### 分析数据：画出决策边界"
   ]
  },
  {
   "cell_type": "code",
   "execution_count": 148,
   "metadata": {},
   "outputs": [],
   "source": [
    "def plotBestFit(wei):\n",
    "    dataMat, labelMat = loadDataSet()\n",
    "    dataArr = array(dataMat)\n",
    "    n = shape(dataArr)[0]\n",
    "    xcord1 = []\n",
    "    ycord1 = []\n",
    "    xcord2 = []\n",
    "    ycord2 = []\n",
    "    for i in range(n):\n",
    "        if int(labelMat[i]) == 1:\n",
    "            xcord1.append(dataArr[i, 1])\n",
    "            ycord1.append(dataArr[i, 2])\n",
    "        else:\n",
    "            xcord2.append(dataArr[i, 1])\n",
    "            ycord2.append(dataArr[i, 2])\n",
    "    fig = plt.figure()\n",
    "    ax = fig.add_subplot(111)\n",
    "    ax.scatter(xcord1, ycord1, s=30, c='red', marker='s')\n",
    "    ax.scatter(xcord2, ycord2, s=30, c='green')\n",
    "    x = mat(arange(-3.0, 3.0, 0.1))\n",
    "    print(x)\n",
    "    #最佳拟合直线\n",
    "    y = (-weights[0]-weights[1]*x)/weights[2]\n",
    "    print(y)\n",
    "    ax.plot(x, y)\n",
    "    plt.xlabel('X1')\n",
    "    plt.ylabel('X2')\n",
    "    plt.show"
   ]
  },
  {
   "cell_type": "code",
   "execution_count": 149,
   "metadata": {},
   "outputs": [
    {
     "name": "stdout",
     "output_type": "stream",
     "text": [
      "[[ 4.12414349]\n",
      " [ 0.48007329]\n",
      " [-0.6168482 ]]\n"
     ]
    }
   ],
   "source": [
    "weights = gradAscent(dataArr,LabelMat)\n",
    "print(weights)"
   ]
  },
  {
   "cell_type": "code",
   "execution_count": 150,
   "metadata": {},
   "outputs": [
    {
     "name": "stdout",
     "output_type": "stream",
     "text": [
      "[[-3.00000000e+00 -2.90000000e+00 -2.80000000e+00 -2.70000000e+00\n",
      "  -2.60000000e+00 -2.50000000e+00 -2.40000000e+00 -2.30000000e+00\n",
      "  -2.20000000e+00 -2.10000000e+00 -2.00000000e+00 -1.90000000e+00\n",
      "  -1.80000000e+00 -1.70000000e+00 -1.60000000e+00 -1.50000000e+00\n",
      "  -1.40000000e+00 -1.30000000e+00 -1.20000000e+00 -1.10000000e+00\n",
      "  -1.00000000e+00 -9.00000000e-01 -8.00000000e-01 -7.00000000e-01\n",
      "  -6.00000000e-01 -5.00000000e-01 -4.00000000e-01 -3.00000000e-01\n",
      "  -2.00000000e-01 -1.00000000e-01  2.66453526e-15  1.00000000e-01\n",
      "   2.00000000e-01  3.00000000e-01  4.00000000e-01  5.00000000e-01\n",
      "   6.00000000e-01  7.00000000e-01  8.00000000e-01  9.00000000e-01\n",
      "   1.00000000e+00  1.10000000e+00  1.20000000e+00  1.30000000e+00\n",
      "   1.40000000e+00  1.50000000e+00  1.60000000e+00  1.70000000e+00\n",
      "   1.80000000e+00  1.90000000e+00  2.00000000e+00  2.10000000e+00\n",
      "   2.20000000e+00  2.30000000e+00  2.40000000e+00  2.50000000e+00\n",
      "   2.60000000e+00  2.70000000e+00  2.80000000e+00  2.90000000e+00]]\n",
      "[[4.35102773 4.42885454 4.50668136 4.58450817 4.66233498 4.7401618\n",
      "  4.81798861 4.89581542 4.97364223 5.05146905 5.12929586 5.20712267\n",
      "  5.28494949 5.3627763  5.44060311 5.51842993 5.59625674 5.67408355\n",
      "  5.75191037 5.82973718 5.90756399 5.9853908  6.06321762 6.14104443\n",
      "  6.21887124 6.29669806 6.37452487 6.45235168 6.5301785  6.60800531\n",
      "  6.68583212 6.76365893 6.84148575 6.91931256 6.99713937 7.07496619\n",
      "  7.152793   7.23061981 7.30844663 7.38627344 7.46410025 7.54192706\n",
      "  7.61975388 7.69758069 7.7754075  7.85323432 7.93106113 8.00888794\n",
      "  8.08671476 8.16454157 8.24236838 8.32019519 8.39802201 8.47584882\n",
      "  8.55367563 8.63150245 8.70932926 8.78715607 8.86498289 8.9428097 ]]\n"
     ]
    },
    {
     "data": {
      "image/png": "[encoded data removed]",
      "text/plain": [
       "<Figure size 432x288 with 1 Axes>"
      ]
     },
     "metadata": {},
     "output_type": "display_data"
    }
   ],
   "source": [
    "plotBestFit(weights.getA())\n"
   ]
  },
  {
   "cell_type": "markdown",
   "metadata": {},
   "source": [
    "#### 随机梯度上升      \n",
    "所有回归系数初始化为1  \n",
    "对数据集中每个样本         \n",
    "       * 计算该样本的梯度  \n",
    "       * 使用alpha × gradient更新回归系数值          \n",
    "返回回归系数值  "
   ]
  },
  {
   "cell_type": "code",
   "execution_count": null,
   "metadata": {},
   "outputs": [],
   "source": []
  }
 ],
 "metadata": {
  "kernelspec": {
   "display_name": "Python 3",
   "language": "python",
   "name": "python3"
  },
  "language_info": {
   "codemirror_mode": {
    "name": "ipython",
    "version": 3
   },
   "file_extension": ".py",
   "mimetype": "text/x-python",
   "name": "python",
   "nbconvert_exporter": "python",
   "pygments_lexer": "ipython3",
   "version": "3.5.4"
  }
 },
 "nbformat": 4,
 "nbformat_minor": 2
}
